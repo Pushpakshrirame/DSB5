{
 "cells": [
  {
   "cell_type": "markdown",
   "metadata": {},
   "source": [
    "## Unsupervised Learning Algorithms\n",
    "\n",
    "### Clustering Analysis\n",
    "- #### Kmeans Clustering Algorithm\n",
    "- #### Agglomerative Hierrarchial Clustering"
   ]
  },
  {
   "cell_type": "markdown",
   "metadata": {},
   "source": [
    "### Hierrarchial Clustering\n",
    "\n",
    "- A.k.a Agglomerative clustering, does not require the user to specify the number of clusters. \n",
    "- Initially, each point is considered as a separate cluster, then it recursively clusters the points together depending upon the distance between them. \n",
    "- The points are clustered in such a way that the distance between points within a cluster is minimum and distance between the cluster is maximum. \n",
    "- Commonly used distance measures are Euclidean distance, Manhattan distance or Mahalanobis distance. Unlike k-means clustering, it is \"bottom-up\" approach.\n",
    "\n",
    "\n",
    "\n",
    "Reading Reference for Clustering Algorithms -\n",
    "https://scikit-learn.org/stable/modules/clustering.html#clustering"
   ]
  },
  {
   "cell_type": "markdown",
   "metadata": {},
   "source": [
    "### Step1: Load Libraries"
   ]
  },
  {
   "cell_type": "code",
   "execution_count": null,
   "metadata": {},
   "outputs": [],
   "source": [
    "import numpy as np            # Data manipulation\n",
    "import pandas as pd           # Dataframe manipulatio \n",
    "import matplotlib.pyplot as plt                   # For graphics\n",
    "import seaborn as sns\n",
    "from sklearn.preprocessing import StandardScaler  # For scaling dataset\n",
    "from sklearn.cluster import KMeans, AgglomerativeClustering"
   ]
  },
  {
   "cell_type": "markdown",
   "metadata": {},
   "source": [
    "### Step2: Load Data"
   ]
  },
  {
   "cell_type": "code",
   "execution_count": null,
   "metadata": {},
   "outputs": [],
   "source": [
    "df_raw = pd.read_csv(\"./data/world-happiness-report/2017.csv\")\n",
    "df_raw.head()"
   ]
  },
  {
   "cell_type": "markdown",
   "metadata": {},
   "source": [
    "### Step3: Explore Data"
   ]
  },
  {
   "cell_type": "code",
   "execution_count": null,
   "metadata": {},
   "outputs": [],
   "source": [
    "df_raw.describe()"
   ]
  },
  {
   "cell_type": "code",
   "execution_count": null,
   "metadata": {},
   "outputs": [],
   "source": [
    "df_raw.columns"
   ]
  },
  {
   "cell_type": "code",
   "execution_count": null,
   "metadata": {},
   "outputs": [],
   "source": [
    "# Plot Correlation Heatmap to analyse correlation between continuous variables\n",
    "df = df_raw[['Happiness Score','Economy (GDP per Capita)','Family','Health (Life Expectancy)', 'Freedom', \n",
    "          'Generosity','Trust (Government Corruption)','Dystopia Residual']] #Subsetting the data\n",
    "cor = df.corr() #Calculate the correlation of the above variables\n",
    "\n",
    "fig,ax = plt.subplots()\n",
    "fig.set_figwidth(8)\n",
    "fig.set_figheight(8)\n",
    "sns.heatmap(cor, square = True,annot=True,cmap=\"YlGnBu\") #Plot the correlation as heat map"
   ]
  },
  {
   "cell_type": "markdown",
   "metadata": {},
   "source": [
    "### Step4: Agglomorative Approach to identify clusters\n",
    "\n",
    "- Starts with one cluster and adds items or data points closer to it in iterative manner till all the points are added to one single large cluster.\n",
    "- Its a bottom up approach where clustering starts with individual points and stops at one large cluster that includes all the points.\n",
    "\n",
    "### Main Approaches to merge data points:\n",
    "- Single Link: distance between closest members of a cluster. **Most Comonly Used**\n",
    "- Complete Linkage: distance between members which are farthest apart\n",
    "- Average Linage: looking at distance between each pair and averages all those distances"
   ]
  },
  {
   "cell_type": "code",
   "execution_count": null,
   "metadata": {},
   "outputs": [],
   "source": [
    "def doAgglomerative(X, nclust=2):\n",
    "    model = AgglomerativeClustering(n_clusters=nclust, affinity = 'euclidean', linkage = 'ward')\n",
    "    clust_labels1 = model.fit_predict(X)\n",
    "    return (clust_labels1)"
   ]
  },
  {
   "cell_type": "code",
   "execution_count": null,
   "metadata": {},
   "outputs": [],
   "source": [
    "clust_labels1 = doAgglomerative(df, 3)\n",
    "agglomerative = pd.DataFrame(clust_labels1)\n",
    "df.insert((df.shape[1]),'agglomerative',agglomerative)"
   ]
  },
  {
   "cell_type": "code",
   "execution_count": null,
   "metadata": {},
   "outputs": [],
   "source": [
    "# Just to check if kmeans column added to the dataframe\n",
    "df.tail()"
   ]
  },
  {
   "cell_type": "code",
   "execution_count": null,
   "metadata": {},
   "outputs": [],
   "source": [
    "# Plot scatter plot\n",
    "fig, (ax0,ax1) = plt.subplots(ncols= 2)\n",
    "fig.set_figwidth(16)\n",
    "fig.set_figheight(6)\n",
    "\n",
    "# Scatter plots of Corruption vs GDP\n",
    "scatter = ax0.scatter(df['Economy (GDP per Capita)'],df['Trust (Government Corruption)'],\n",
    "                     c=agglomerative[0],s=50)\n",
    "ax0.set_title('Agglomerative Clustering')\n",
    "ax0.set_xlabel('GDP per Capita')\n",
    "ax0.set_ylabel('Corruption')\n",
    "\n",
    "# Scatter plots of Corruption vs GDP\n",
    "\n",
    "scatter = ax1.scatter(df['Freedom'],df['Trust (Government Corruption)'],\n",
    "                     c=agglomerative[0],s=50)\n",
    "ax1.set_title('Agglomerative Clustering')\n",
    "ax1.set_xlabel('Freedom')\n",
    "ax1.set_ylabel('Corruption')\n",
    "\n",
    "plt.colorbar(scatter)"
   ]
  },
  {
   "cell_type": "code",
   "execution_count": null,
   "metadata": {},
   "outputs": [],
   "source": [
    "# Convert Cluster to\n",
    "label_mapping = {0:\"cluster0\",1:\"cluster1\",2:\"cluster2\"}\n",
    "df[\"cluster_name\"] = df[\"agglomerative\"].apply(lambda x: label_mapping[x])"
   ]
  },
  {
   "cell_type": "code",
   "execution_count": null,
   "metadata": {},
   "outputs": [],
   "source": [
    "df.tail()"
   ]
  },
  {
   "cell_type": "code",
   "execution_count": null,
   "metadata": {},
   "outputs": [],
   "source": [
    "fig, (ax,ax2,ax3,ax4) = plt.subplots(nrows = 4)\n",
    "fig.set_figwidth(16)\n",
    "fig.set_figheight(24)\n",
    "x = sns.boxplot(x=\"cluster_name\", y='Freedom', data=df, ax= ax)\n",
    "x = sns.swarmplot(x=\"cluster_name\", y='Freedom', data=df,color=\".25\",ax= ax)\n",
    "# Cluster analysis of employment\n",
    "x = sns.boxplot(x=\"cluster_name\", y='Economy (GDP per Capita)', data=df, ax= ax2)\n",
    "x = sns.swarmplot(x=\"cluster_name\", y='Economy (GDP per Capita)', data=df,color=\".25\",ax= ax2)\n",
    "# Cluster analysis of employment\n",
    "x = sns.boxplot(x=\"cluster_name\", y='Happiness Score', data=df, ax= ax3)\n",
    "x = sns.swarmplot(x=\"cluster_name\", y='Happiness Score', data=df,color=\".25\",ax= ax3)\n",
    "# Cluster analysis of employment\n",
    "x = sns.boxplot(x=\"cluster_name\", y='Family', data=df, ax= ax4)\n",
    "x = sns.swarmplot(x=\"cluster_name\", y='Family', data=df,color=\".25\",ax= ax4)"
   ]
  },
  {
   "cell_type": "code",
   "execution_count": null,
   "metadata": {},
   "outputs": [],
   "source": [
    "df_final = df.join(df_raw[\"Country\"])"
   ]
  },
  {
   "cell_type": "code",
   "execution_count": null,
   "metadata": {},
   "outputs": [],
   "source": [
    "df_final[df_final[\"Country\"].isin([\"Pakistan\",\"India\",\"Bangladesh\",\"Bhutan\",\"Nepal\"])]"
   ]
  },
  {
   "cell_type": "code",
   "execution_count": null,
   "metadata": {},
   "outputs": [],
   "source": [
    "from scipy.cluster.hierarchy import dendrogram, linkage"
   ]
  },
  {
   "cell_type": "code",
   "execution_count": null,
   "metadata": {},
   "outputs": [],
   "source": [
    "df = df_final.set_index('agglomerative')\n",
    "# del df.index.name"
   ]
  },
  {
   "cell_type": "code",
   "execution_count": null,
   "metadata": {},
   "outputs": [],
   "source": [
    "df.index"
   ]
  },
  {
   "cell_type": "code",
   "execution_count": null,
   "metadata": {},
   "outputs": [],
   "source": [
    "from scipy.cluster import hierarchy"
   ]
  },
  {
   "cell_type": "code",
   "execution_count": null,
   "metadata": {},
   "outputs": [],
   "source": [
    "Z = hierarchy.linkage(df_final.iloc[:,1:7],method='ward')\n",
    "hierarchy.set_link_color_palette(['m', 'c', 'y'])\n",
    "fig, axes = plt.subplots(figsize=(16, 8))\n",
    "dn1 = hierarchy.dendrogram(Z, ax=axes, above_threshold_color='y',\n",
    "                           orientation='top')\n",
    "# dn2 = hierarchy.dendrogram(Z, ax=axes[1],\n",
    "#                            above_threshold_color='#bcbddc',\n",
    "#                            orientation='right')\n",
    "hierarchy.set_link_color_palette(None)  # reset to default after use\n",
    "plt.title('Hierarchical Clustering Dendrogram')\n",
    "plt.xlabel('sample index')\n",
    "plt.ylabel('distance')\n",
    "plt.show()"
   ]
  },
  {
   "cell_type": "code",
   "execution_count": null,
   "metadata": {},
   "outputs": [],
   "source": []
  }
 ],
 "metadata": {
  "kernelspec": {
   "display_name": "Python 3",
   "language": "python",
   "name": "python3"
  },
  "language_info": {
   "codemirror_mode": {
    "name": "ipython",
    "version": 3
   },
   "file_extension": ".py",
   "mimetype": "text/x-python",
   "name": "python",
   "nbconvert_exporter": "python",
   "pygments_lexer": "ipython3",
   "version": "3.8.3"
  }
 },
 "nbformat": 4,
 "nbformat_minor": 4
}
