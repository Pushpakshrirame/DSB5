{
 "cells": [
  {
   "cell_type": "markdown",
   "metadata": {},
   "source": [
    "## Association Rules Mining\n",
    "\n",
    "- Association rule mining is a technique to identify underlying relations between different items. Take an example of a Super Market where customers can buy variety of items.\n",
    "- Organizations can generate more profit if the relationship between the items purchased in different transactions can be identified.\n",
    "- The process of identifying an associations between products is called association rule mining."
   ]
  },
  {
   "cell_type": "markdown",
   "metadata": {},
   "source": [
    "### The Theory Behind Association Rule Mining\n",
    "\n",
    "There are several algorithms developed over last half a century to identify most commonly bought itemset. However **Apriori Algorithm** has been in the fore front of these algorithms.There are three major components of Apriori algorithm:\n",
    "\n",
    "- Support\n",
    "- Confidence\n",
    "- Lift"
   ]
  },
  {
   "cell_type": "markdown",
   "metadata": {},
   "source": [
    "### Support\n",
    "\n",
    "Support refers to the default popularity of an item and can be calculated by finding number of transactions containing a particular item divided by total number of transactions. Suppose we want to find support for item B. This can be calculated as:\n",
    "\n",
    "\n",
    "\\begin{equation*}\n",
    "Support(B) = (Transactions . containing (B)) / (Total.Transactions)\n",
    "\\end{equation*}\n",
    "\n",
    "Support(Ketchup) = (Transactions containingKetchup) / (Total Transactions)\n",
    "\n",
    "Support(Ketchup) = __100/1000__  \n",
    "                 = __10%__"
   ]
  },
  {
   "cell_type": "markdown",
   "metadata": {},
   "source": [
    "### Confidence\n",
    "\n",
    "- Confidence refers to the likelihood that an item B is also bought if item A is bought. \n",
    "- It can be calculated by finding the number of transactions where A and B are bought together, divided by total number of transactions where A is bought. Mathematically, it can be represented as:\n",
    "\n",
    "\\begin{equation*}\n",
    "Confidence(A→B) = (Transactions \\ containing \\ both \\ (A \\& B))\\ / \\ (Transactions \\ containing \\ A) \n",
    "\\end{equation*}\n",
    "<br>\n",
    "<br>\n",
    "Confidence(Burger→Ketchup) = (Transactions containing both (Burger and Ketchup))/(Transactions containing A)\n",
    "\n",
    "Confidence(Burger→Ketchup) = __50/150__ <br>\n",
    "&emsp;   &emsp; &emsp;     &emsp;    &emsp;  &emsp;   &emsp; &emsp;  &emsp; &emsp; &emsp; &emsp; &emsp;= __33.3%__"
   ]
  },
  {
   "cell_type": "markdown",
   "metadata": {},
   "source": [
    "### Lift\n",
    "- Lift(A -> B) refers to the increase in the ratio of sale of B when A is sold. \n",
    "- Mathematically it can be represented as:\n",
    "\n",
    "\n",
    "\\begin{equation*}\n",
    "Lift(A→B) = (Confidence (A→B))/(Support (B))  \n",
    "\\end{equation*}\n",
    "\n",
    "Lift(Burger→Ketchup) = (Confidence (Burger→Ketchup))/(Support (Ketchup))\n",
    "\n",
    "__Lift(Burger→Ketchup) = &emsp;33.3/10  = 3.33__\n",
    "\n",
    "### Interpretaion of Lift -\n",
    "Lift basically tells us that the likelihood of buying a Burger and Ketchup together is 3.33 times more than the likelihood of just buying the ketchup. A Lift of 1 means there is no association between products A and B."
   ]
  },
  {
   "cell_type": "markdown",
   "metadata": {},
   "source": [
    "### Steps Involved in Apriori Algorithm\n",
    "\n",
    "- Set a minimum value for support and confidence. This means that we are only interested in finding rules for the items that have certain default existence (e.g. support) and have a minimum value for co-occurrence with other items (e.g. confidence).\n",
    "- Extract all the subsets having higher value of support than minimum threshold.\n",
    "- Select all the rules from the subsets with confidence value higher than minimum threshold.\n",
    "- Order the rules by descending order of Lift."
   ]
  },
  {
   "cell_type": "markdown",
   "metadata": {},
   "source": [
    "### Lets Implement Apriori Algorithm"
   ]
  },
  {
   "cell_type": "markdown",
   "metadata": {},
   "source": [
    "### 1.  Load Libraries"
   ]
  },
  {
   "cell_type": "code",
   "execution_count": null,
   "metadata": {},
   "outputs": [],
   "source": [
    "! pip install apyori"
   ]
  },
  {
   "cell_type": "code",
   "execution_count": null,
   "metadata": {},
   "outputs": [],
   "source": [
    "import numpy as np  \n",
    "import matplotlib.pyplot as plt  \n",
    "import pandas as pd  \n",
    "from apyori import apriori  "
   ]
  },
  {
   "cell_type": "markdown",
   "metadata": {},
   "source": [
    "### 2. Load Data"
   ]
  },
  {
   "cell_type": "code",
   "execution_count": null,
   "metadata": {},
   "outputs": [],
   "source": [
    "store_data = pd.read_csv(\"data/store_data.csv\",header = None)\n",
    "store_data.head()"
   ]
  },
  {
   "cell_type": "markdown",
   "metadata": {},
   "source": [
    "### 3. Preprocessing of Data"
   ]
  },
  {
   "cell_type": "code",
   "execution_count": null,
   "metadata": {},
   "outputs": [],
   "source": [
    "# Convert pandas data frame into list such that each row of store_data becomes an item in the new list\n",
    "records = []\n",
    "for i in range(0, len(store_data)):  \n",
    "    records.append([str(store_data.values[i,j]) for j in range(0, 20)])\n",
    "\n",
    "# Each item in the record list will include items bought by a customer\n",
    "records[0]"
   ]
  },
  {
   "cell_type": "code",
   "execution_count": null,
   "metadata": {},
   "outputs": [],
   "source": [
    "unique_items = [x for y in records for x in y]\n",
    "print(\"Total Unique Items are %s\"%(len(set(unique_items))))"
   ]
  },
  {
   "cell_type": "code",
   "execution_count": null,
   "metadata": {},
   "outputs": [],
   "source": [
    "set(unique_items)"
   ]
  },
  {
   "cell_type": "markdown",
   "metadata": {},
   "source": [
    "### 4. Build Apriori Model"
   ]
  },
  {
   "cell_type": "code",
   "execution_count": null,
   "metadata": {},
   "outputs": [],
   "source": [
    "association_rules = apriori(records, min_support=0.0005, min_confidence=0.3, min_lift=3, min_length=2)  \n",
    "association_results = list(association_rules)"
   ]
  },
  {
   "cell_type": "code",
   "execution_count": null,
   "metadata": {},
   "outputs": [],
   "source": [
    "# Lets review rules being generated by Apriori algorithm\n",
    "print(\"Total Rules or commonly observed itemset in store_data basis the support & confidence threshold is %s\"\n",
    "     %len(association_results))"
   ]
  },
  {
   "cell_type": "code",
   "execution_count": null,
   "metadata": {},
   "outputs": [],
   "source": [
    "for item in association_results:\n",
    "\n",
    "    # first index of the inner list\n",
    "    # Contains base item and add item\n",
    "    pair = item[0] \n",
    "    items = [x for x in pair]\n",
    "    print(\"Rule: \" + items[0] + \" -> \" + items[1])\n",
    "\n",
    "    #second index of the inner list\n",
    "    print(\"Support: \" + str(item[1]))\n",
    "\n",
    "    #third index of the list located at 0th\n",
    "    #of the third index of the inner list\n",
    "\n",
    "    print(\"Confidence: \" + str(item[2][0][2]))\n",
    "    print(\"Lift: \" + str(item[2][0][3]))\n",
    "    print(\"=====================================\")"
   ]
  },
  {
   "cell_type": "markdown",
   "metadata": {},
   "source": [
    "### Conclusion\n",
    "Association rule mining algorithms such as Apriori are very useful for finding simple associations between our data items. They are easy to implement and have high explain-ability. "
   ]
  },
  {
   "cell_type": "code",
   "execution_count": null,
   "metadata": {},
   "outputs": [],
   "source": []
  }
 ],
 "metadata": {
  "kernelspec": {
   "display_name": "Python 3",
   "language": "python",
   "name": "python3"
  },
  "language_info": {
   "codemirror_mode": {
    "name": "ipython",
    "version": 3
   },
   "file_extension": ".py",
   "mimetype": "text/x-python",
   "name": "python",
   "nbconvert_exporter": "python",
   "pygments_lexer": "ipython3",
   "version": "3.6.7"
  }
 },
 "nbformat": 4,
 "nbformat_minor": 2
}
